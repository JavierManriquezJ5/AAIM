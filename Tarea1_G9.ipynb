{
 "cells": [
  {
   "cell_type": "markdown",
   "id": "a21265cc",
   "metadata": {},
   "source": [
    "# Tarea 1, Grupo 9\n",
    "## Integrantes:\n",
    "- Pablo Alarcón Olave\n",
    "- Tomás Leiton González\n",
    "- Javier Manríquez Jaramillo"
   ]
  },
  {
   "cell_type": "markdown",
   "id": "9f496f66-74f0-4d2a-95f5-c85bab93b19b",
   "metadata": {},
   "source": [
    "# Ejercicio 1"
   ]
  },
  {
   "cell_type": "code",
   "execution_count": 25,
   "id": "993c52d3",
   "metadata": {},
   "outputs": [
    {
     "name": "stdout",
     "output_type": "stream",
     "text": [
      "Atributos:\n",
      "1. MedInc\n",
      "2. HouseAge\n",
      "3. AveRooms\n",
      "4. AveBedrms\n",
      "5. Population\n",
      "6. AveOccup\n",
      "7. Latitude\n",
      "8. Longitude\n",
      "\n",
      "Número de observaciones: 20640\n",
      "   MedInc  HouseAge  AveRooms  AveBedrms  Population  AveOccup  Latitude  \\\n",
      "0  8.3252      41.0  6.984127   1.023810       322.0  2.555556     37.88   \n",
      "1  8.3014      21.0  6.238137   0.971880      2401.0  2.109842     37.86   \n",
      "2  7.2574      52.0  8.288136   1.073446       496.0  2.802260     37.85   \n",
      "3  5.6431      52.0  5.817352   1.073059       558.0  2.547945     37.85   \n",
      "4  3.8462      52.0  6.281853   1.081081       565.0  2.181467     37.85   \n",
      "\n",
      "   Longitude  MedHouseVal  \n",
      "0    -122.23        4.526  \n",
      "1    -122.22        3.585  \n",
      "2    -122.24        3.521  \n",
      "3    -122.25        3.413  \n",
      "4    -122.25        3.422  \n"
     ]
    }
   ],
   "source": [
    "from sklearn.datasets import fetch_california_housing\n",
    "import matplotlib.pyplot as plt\n",
    "import pandas as pd\n",
    "\n",
    "# Carga del set de datos\n",
    "housing = fetch_california_housing(as_frame=False)\n",
    "X = housing.data\n",
    "y = housing.target\n",
    "feature_names = housing.feature_names\n",
    "\n",
    "# Mostrar nombres de atributos\n",
    "print(\"Atributos:\")\n",
    "for i, name in enumerate(feature_names, start=1):\n",
    "    print(f\"{i}. {name}\")\n",
    "\n",
    "print(\"\\nNúmero de observaciones:\", X.shape[0])\n",
    "\n",
    "#Histograma\n",
    "\n",
    "\n",
    "#TABLA DE LOS DATOS \n",
    "df = pd.DataFrame(X, columns=feature_names)\n",
    "\n",
    "# Agregar la variable objetivo (precio de la casa)\n",
    "df[\"MedHouseVal\"] = y\n",
    "\n",
    "# Mostrar primeras filas de la tabla\n",
    "print(df.head())\n",
    "\n"
   ]
  },
  {
   "cell_type": "markdown",
   "id": "271d0d4f",
   "metadata": {},
   "source": [
    "# Ejercicio 2"
   ]
  },
  {
   "cell_type": "code",
   "execution_count": null,
   "id": "e6b20465",
   "metadata": {},
   "outputs": [],
   "source": [
    "#Codigo"
   ]
  },
  {
   "cell_type": "markdown",
   "id": "3bac8d01",
   "metadata": {},
   "source": [
    "# Ejercicio 3"
   ]
  },
  {
   "cell_type": "code",
   "execution_count": 3,
   "id": "906f49a3",
   "metadata": {},
   "outputs": [],
   "source": [
    "#Codigo"
   ]
  },
  {
   "cell_type": "markdown",
   "id": "3c4ba843",
   "metadata": {},
   "source": [
    "# Ejercicio 4"
   ]
  },
  {
   "cell_type": "code",
   "execution_count": 4,
   "id": "8fde3891",
   "metadata": {},
   "outputs": [],
   "source": [
    "#Codigo"
   ]
  },
  {
   "cell_type": "markdown",
   "id": "a24711d0",
   "metadata": {},
   "source": [
    "# Ejercicio 5"
   ]
  },
  {
   "cell_type": "code",
   "execution_count": 5,
   "id": "fc772bec",
   "metadata": {},
   "outputs": [],
   "source": [
    "#Codigo"
   ]
  },
  {
   "cell_type": "markdown",
   "id": "0a29f5e4",
   "metadata": {},
   "source": [
    "# Ejercicio 6"
   ]
  },
  {
   "cell_type": "code",
   "execution_count": 6,
   "id": "24878091",
   "metadata": {},
   "outputs": [],
   "source": [
    "#Codigo"
   ]
  }
 ],
 "metadata": {
  "kernelspec": {
   "display_name": "Python [conda env:base] *",
   "language": "python",
   "name": "conda-base-py"
  },
  "language_info": {
   "codemirror_mode": {
    "name": "ipython",
    "version": 3
   },
   "file_extension": ".py",
   "mimetype": "text/x-python",
   "name": "python",
   "nbconvert_exporter": "python",
   "pygments_lexer": "ipython3",
   "version": "3.13.5"
  }
 },
 "nbformat": 4,
 "nbformat_minor": 5
}
