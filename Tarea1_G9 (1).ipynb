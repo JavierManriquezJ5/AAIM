{
 "cells": [
  {
   "cell_type": "markdown",
   "id": "a21265cc",
   "metadata": {},
   "source": [
    "# Tarea 1, Grupo 9\n",
    "## Integrantes:\n",
    "- Pablo Alarcón Olave\n",
    "- Nombre 2\n",
    "- Nombre 3"
   ]
  },
  {
   "cell_type": "markdown",
   "id": "9f496f66-74f0-4d2a-95f5-c85bab93b19b",
   "metadata": {},
   "source": [
    "# Ejercicio 1. Exploración del set de datos "
   ]
  },
  {
   "cell_type": "code",
   "execution_count": 20,
   "id": "993c52d3",
   "metadata": {},
   "outputs": [
    {
     "name": "stdout",
     "output_type": "stream",
     "text": [
      "Atributos:\n",
      "1. MedInc\n",
      "2. HouseAge\n",
      "3. AveRooms\n",
      "4. AveBedrms\n",
      "5. Population\n",
      "6. AveOccup\n",
      "7. Latitude\n",
      "8. Longitude\n",
      "\n",
      "Número de observaciones: 20640\n"
     ]
    },
    {
     "data": {
      "image/png": "[encoded data removed]",
      "text/plain": [
       "<Figure size 640x480 with 1 Axes>"
      ]
     },
     "metadata": {},
     "output_type": "display_data"
    },
    {
     "name": "stdout",
     "output_type": "stream",
     "text": [
      "       MedInc  HouseAge   AveRooms  AveBedrms  Population  AveOccup  Latitude  \\\n",
      "19802  0.5360      36.0  12.250000   3.500000        18.0  2.250000     40.31   \n",
      "2799   2.1000      19.0   3.774390   1.457317       490.0  2.987805     36.40   \n",
      "2521   1.6607      16.0   6.710526   1.921053        85.0  2.236842     39.71   \n",
      "9188   4.1932      52.0   3.568889   1.186667       628.0  2.791111     34.24   \n",
      "5887   2.3667      39.0   3.572464   1.217391       259.0  1.876812     34.15   \n",
      "\n",
      "       Longitude  MedHouseVal  \n",
      "19802    -123.17      0.14999  \n",
      "2799     -117.02      0.14999  \n",
      "2521     -122.74      0.14999  \n",
      "9188     -117.86      0.14999  \n",
      "5887     -118.33      0.17500  \n"
     ]
    }
   ],
   "source": [
    "from sklearn.datasets import fetch_california_housing\n",
    "import matplotlib.pyplot as plt\n",
    "import pandas as pd\n",
    "import numpy as np\n",
    "\n",
    "# Carga del set de datos\n",
    "housing = fetch_california_housing(as_frame=False)\n",
    "X = housing.data\n",
    "y = housing.target\n",
    "feature_names = housing.feature_names\n",
    "\n",
    "# Mostrar nombres de atributos\n",
    "print(\"Atributos:\")\n",
    "for i, name in enumerate(feature_names, start=1):\n",
    "    print(f\"{i}. {name}\")\n",
    "#Número de observaciones (samples, muestras)\n",
    "print(\"\\nNúmero de observaciones:\", X.shape[0])\n",
    "\n",
    "#Histograma\n",
    "plt.hist(y, bins=50, edgecolor=\"black\")\n",
    "# Configurar ticks en el eje X\n",
    "min_val, max_val = y.min(), y.max()\n",
    "step = 0.5  # subdivisiones cada 0.5 (50 mil USD)\n",
    "plt.xticks(np.arange(min_val, max_val + step, step))\n",
    "\n",
    "plt.xlabel(\"Precio medio de la casa (en 100K USD)\")\n",
    "plt.ylabel(\"Frecuencia\")\n",
    "plt.title(\"Histograma Precios de las viviendas\")\n",
    "plt.show()\n",
    "\n",
    "#TABLA DE LOS DATOS (extra)\n",
    "df = pd.DataFrame(X, columns=feature_names)\n",
    "df[\"MedHouseVal\"] = y\n",
    "df_ordenado = df.sort_values(by=\"MedHouseVal\", ascending=True) #Ordera\n",
    "print(df_ordenado.head()) #Ajustable según los datos que se requieran revisar. "
   ]
  },
  {
   "cell_type": "markdown",
   "id": "271d0d4f",
   "metadata": {},
   "source": [
    "# Ejercicio 2. Modelo lineal"
   ]
  },
  {
   "cell_type": "code",
   "execution_count": 33,
   "id": "e6b20465",
   "metadata": {},
   "outputs": [
    {
     "name": "stdout",
     "output_type": "stream",
     "text": [
      "El error de entrenamiento es MSE =  0.5145924626720385\n",
      "El error de test es MSE =  0.5435945247974563\n"
     ]
    }
   ],
   "source": [
    "from sklearn.linear_model import LinearRegression\n",
    "from sklearn.metrics import mean_squared_error\n",
    "from sklearn.model_selection import train_test_split\n",
    "\n",
    "X_train, X_test, y_train, y_test = train_test_split(X, y, test_size=0.4, random_state=42) \n",
    "\n",
    "#entrenamiento del modelo\n",
    "regre = LinearRegression()\n",
    "regre.fit(X_train, y_train)\n",
    "y_train_predict = regre.predict(X_train)\n",
    "mse_train = mean_squared_error(y_train, y_train_predict)\n",
    "print('El error de entrenamiento es MSE = ', mse_train)\n",
    "\n",
    "#test del modelo\n",
    "y_test_predict = regre.predict(X_test)\n",
    "mse_test = mean_squared_error(y_test, y_test_predict)\n",
    "print('El error de test es MSE = ', mse_test)"
   ]
  },
  {
   "cell_type": "markdown",
   "id": "3bac8d01",
   "metadata": {},
   "source": [
    "# Ejercicio 3. Coeficiente de determinación"
   ]
  },
  {
   "cell_type": "code",
   "execution_count": null,
   "id": "63580fa7-d6a5-4c22-8567-11e6dc0a4a49",
   "metadata": {},
   "outputs": [
    {
     "name": "stdout",
     "output_type": "stream",
     "text": [
      "El coeficiente de determinación en entrenamiento es =  0.612130026035787\n",
      "El coeficiente de determinación en test es =  0.5939400468776985\n"
     ]
    }
   ],
   "source": [
    "from sklearn.metrics import r2_score\n",
    "\n",
    "#Para los datos de entrenamiento\n",
    "R2_train = r2_score(y_train, y_train_predict) \n",
    "print('El coeficiente de determinación en entrenamiento es = ', R2_train)\n",
    "\n",
    "#Para los datos de test\n",
    "R2_test = r2_score(y_test, y_test_predict) \n",
    "print('El coeficiente de determinación en test es = ', R2_test)\n",
    "\n"
   ]
  },
  {
   "cell_type": "markdown",
   "id": "ff61da6a-b64d-479d-98f1-98d776791f0b",
   "metadata": {},
   "source": [
    "\n",
    "#\n",
    "Los valores obtenidos para el coeficiente de determinación \"R2\" no son pésimos, pero tampoco son excelentes a simple vista, en consecuencia se podría estimar que el funcionamiento del modelo está siendo regular. Tanto en entrenamiento como en test se obtiene un R2 aproximado de 0.6, esto significa que el modelo logra predecir en un 60% la variabilidad del precio respecto a los atributos, el 40% respectivo puede deberse a que: \n",
    "#\n",
    "1) Los atributos no tienen una relación completamente lineal y la regresión lineal sólo puede ajustar planos rectos en el dominio de estudio.\n",
    "2) El modelo está subajustado, por lo tanto se debiese usar otro tipo de modelo u hiperparámetros para esta base de datos.\n",
    "3) Los datos de los atributos deben tener una alta variación, lo que hace que el modelo lineal utilizado no se ajuste correctamente."
   ]
  },
  {
   "cell_type": "markdown",
   "id": "3c4ba843",
   "metadata": {},
   "source": [
    "# Ejercicio 4. Cambio en la variable objetivo"
   ]
  },
  {
   "cell_type": "code",
   "execution_count": 32,
   "id": "8fde3891",
   "metadata": {},
   "outputs": [
    {
     "name": "stdout",
     "output_type": "stream",
     "text": [
      "El error de entrenamiento es MSE =  2.058369850688154\n",
      "El coeficiente de determinación en entrenamiento es =  0.612130026035787\n"
     ]
    }
   ],
   "source": [
    "X_train, X_test, y2_train, y2_test = train_test_split(X, 2*y, test_size=0.4, random_state=42) \n",
    "\n",
    "regre = LinearRegression()\n",
    "regre.fit(X_train, y2_train)\n",
    "y2_train_predict = regre.predict(X_train)\n",
    "\n",
    "\n",
    "mse_train = mean_squared_error(y2_train, y2_train_predict)\n",
    "print('El error de entrenamiento es MSE = ', mse_train) \n",
    "\n",
    "R2_train = r2_score(y2_train, y2_train_predict) \n",
    "print('El coeficiente de determinación en entrenamiento es = ', R2_train)\n",
    "\n"
   ]
  },
  {
   "cell_type": "markdown",
   "id": "174eeb34-57c4-466b-9238-675604ff3314",
   "metadata": {},
   "source": [
    "Como se observa, el error cuadrático medio (MSE) aumenta 4 veces si el precio de las viviendas aumenta al doble, mientras que el R2 se mantiene igual debido a que por la forma de la ecuación que lo describe (una relación) este es invariante a cambios de escala. "
   ]
  },
  {
   "cell_type": "markdown",
   "id": "a24711d0",
   "metadata": {},
   "source": [
    "# Ejercicio 5. Mejor atributo en modelo lineal"
   ]
  },
  {
   "cell_type": "code",
   "execution_count": null,
   "id": "3eabf823-42b3-44a5-b55d-874e52e0cd9c",
   "metadata": {},
   "outputs": [],
   "source": [
    "#Codigo"
   ]
  },
  {
   "cell_type": "markdown",
   "id": "0a29f5e4",
   "metadata": {},
   "source": [
    "# Ejercicio 6. Visualización"
   ]
  },
  {
   "cell_type": "code",
   "execution_count": 6,
   "id": "24878091",
   "metadata": {},
   "outputs": [],
   "source": [
    "#Codigo"
   ]
  }
 ],
 "metadata": {
  "kernelspec": {
   "display_name": "Python [conda env:base] *",
   "language": "python",
   "name": "conda-base-py"
  },
  "language_info": {
   "codemirror_mode": {
    "name": "ipython",
    "version": 3
   },
   "file_extension": ".py",
   "mimetype": "text/x-python",
   "name": "python",
   "nbconvert_exporter": "python",
   "pygments_lexer": "ipython3",
   "version": "3.13.5"
  }
 },
 "nbformat": 4,
 "nbformat_minor": 5
}
